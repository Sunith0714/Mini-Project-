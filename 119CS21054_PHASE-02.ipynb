{
 "cells": [
  {
   "cell_type": "markdown",
   "id": "1e286b33",
   "metadata": {},
   "source": [
    "# Phase 2"
   ]
  },
  {
   "cell_type": "code",
   "execution_count": 2,
   "id": "9b57b813",
   "metadata": {},
   "outputs": [],
   "source": [
    "import pandas as pd\n",
    "import numpy as np\n",
    "import matplotlib.pyplot as plt\n",
    "import scipy.stats as stats"
   ]
  },
  {
   "cell_type": "code",
   "execution_count": 3,
   "id": "28e706cd",
   "metadata": {},
   "outputs": [
    {
     "data": {
      "text/html": [
       "<div>\n",
       "<style scoped>\n",
       "    .dataframe tbody tr th:only-of-type {\n",
       "        vertical-align: middle;\n",
       "    }\n",
       "\n",
       "    .dataframe tbody tr th {\n",
       "        vertical-align: top;\n",
       "    }\n",
       "\n",
       "    .dataframe thead th {\n",
       "        text-align: right;\n",
       "    }\n",
       "</style>\n",
       "<table border=\"1\" class=\"dataframe\">\n",
       "  <thead>\n",
       "    <tr style=\"text-align: right;\">\n",
       "      <th></th>\n",
       "      <th>crim</th>\n",
       "      <th>zn</th>\n",
       "      <th>indus</th>\n",
       "      <th>chas</th>\n",
       "      <th>nox</th>\n",
       "      <th>rm</th>\n",
       "      <th>age</th>\n",
       "      <th>dis</th>\n",
       "      <th>rad</th>\n",
       "      <th>tax</th>\n",
       "      <th>ptratio</th>\n",
       "      <th>b</th>\n",
       "      <th>lstat</th>\n",
       "      <th>medv</th>\n",
       "    </tr>\n",
       "  </thead>\n",
       "  <tbody>\n",
       "    <tr>\n",
       "      <th>0</th>\n",
       "      <td>0.00632</td>\n",
       "      <td>18.0</td>\n",
       "      <td>2.31</td>\n",
       "      <td>0</td>\n",
       "      <td>0.538</td>\n",
       "      <td>6.575</td>\n",
       "      <td>65.2</td>\n",
       "      <td>4.0900</td>\n",
       "      <td>1</td>\n",
       "      <td>296</td>\n",
       "      <td>15.3</td>\n",
       "      <td>396.90</td>\n",
       "      <td>4.98</td>\n",
       "      <td>24.0</td>\n",
       "    </tr>\n",
       "    <tr>\n",
       "      <th>1</th>\n",
       "      <td>0.02731</td>\n",
       "      <td>0.0</td>\n",
       "      <td>7.07</td>\n",
       "      <td>0</td>\n",
       "      <td>0.469</td>\n",
       "      <td>6.421</td>\n",
       "      <td>78.9</td>\n",
       "      <td>4.9671</td>\n",
       "      <td>2</td>\n",
       "      <td>242</td>\n",
       "      <td>17.8</td>\n",
       "      <td>396.90</td>\n",
       "      <td>9.14</td>\n",
       "      <td>21.6</td>\n",
       "    </tr>\n",
       "    <tr>\n",
       "      <th>2</th>\n",
       "      <td>0.02729</td>\n",
       "      <td>0.0</td>\n",
       "      <td>7.07</td>\n",
       "      <td>0</td>\n",
       "      <td>0.469</td>\n",
       "      <td>7.185</td>\n",
       "      <td>61.1</td>\n",
       "      <td>4.9671</td>\n",
       "      <td>2</td>\n",
       "      <td>242</td>\n",
       "      <td>17.8</td>\n",
       "      <td>392.83</td>\n",
       "      <td>4.03</td>\n",
       "      <td>34.7</td>\n",
       "    </tr>\n",
       "    <tr>\n",
       "      <th>3</th>\n",
       "      <td>0.03237</td>\n",
       "      <td>0.0</td>\n",
       "      <td>2.18</td>\n",
       "      <td>0</td>\n",
       "      <td>0.458</td>\n",
       "      <td>6.998</td>\n",
       "      <td>45.8</td>\n",
       "      <td>6.0622</td>\n",
       "      <td>3</td>\n",
       "      <td>222</td>\n",
       "      <td>18.7</td>\n",
       "      <td>394.63</td>\n",
       "      <td>2.94</td>\n",
       "      <td>33.4</td>\n",
       "    </tr>\n",
       "    <tr>\n",
       "      <th>4</th>\n",
       "      <td>0.06905</td>\n",
       "      <td>0.0</td>\n",
       "      <td>2.18</td>\n",
       "      <td>0</td>\n",
       "      <td>0.458</td>\n",
       "      <td>7.147</td>\n",
       "      <td>54.2</td>\n",
       "      <td>6.0622</td>\n",
       "      <td>3</td>\n",
       "      <td>222</td>\n",
       "      <td>18.7</td>\n",
       "      <td>396.90</td>\n",
       "      <td>5.33</td>\n",
       "      <td>36.2</td>\n",
       "    </tr>\n",
       "    <tr>\n",
       "      <th>...</th>\n",
       "      <td>...</td>\n",
       "      <td>...</td>\n",
       "      <td>...</td>\n",
       "      <td>...</td>\n",
       "      <td>...</td>\n",
       "      <td>...</td>\n",
       "      <td>...</td>\n",
       "      <td>...</td>\n",
       "      <td>...</td>\n",
       "      <td>...</td>\n",
       "      <td>...</td>\n",
       "      <td>...</td>\n",
       "      <td>...</td>\n",
       "      <td>...</td>\n",
       "    </tr>\n",
       "    <tr>\n",
       "      <th>501</th>\n",
       "      <td>0.06263</td>\n",
       "      <td>0.0</td>\n",
       "      <td>11.93</td>\n",
       "      <td>0</td>\n",
       "      <td>0.573</td>\n",
       "      <td>6.593</td>\n",
       "      <td>69.1</td>\n",
       "      <td>2.4786</td>\n",
       "      <td>1</td>\n",
       "      <td>273</td>\n",
       "      <td>21.0</td>\n",
       "      <td>391.99</td>\n",
       "      <td>9.67</td>\n",
       "      <td>22.4</td>\n",
       "    </tr>\n",
       "    <tr>\n",
       "      <th>502</th>\n",
       "      <td>0.04527</td>\n",
       "      <td>0.0</td>\n",
       "      <td>11.93</td>\n",
       "      <td>0</td>\n",
       "      <td>0.573</td>\n",
       "      <td>6.120</td>\n",
       "      <td>76.7</td>\n",
       "      <td>2.2875</td>\n",
       "      <td>1</td>\n",
       "      <td>273</td>\n",
       "      <td>21.0</td>\n",
       "      <td>396.90</td>\n",
       "      <td>9.08</td>\n",
       "      <td>20.6</td>\n",
       "    </tr>\n",
       "    <tr>\n",
       "      <th>503</th>\n",
       "      <td>0.06076</td>\n",
       "      <td>0.0</td>\n",
       "      <td>11.93</td>\n",
       "      <td>0</td>\n",
       "      <td>0.573</td>\n",
       "      <td>6.976</td>\n",
       "      <td>91.0</td>\n",
       "      <td>2.1675</td>\n",
       "      <td>1</td>\n",
       "      <td>273</td>\n",
       "      <td>21.0</td>\n",
       "      <td>396.90</td>\n",
       "      <td>5.64</td>\n",
       "      <td>23.9</td>\n",
       "    </tr>\n",
       "    <tr>\n",
       "      <th>504</th>\n",
       "      <td>0.10959</td>\n",
       "      <td>0.0</td>\n",
       "      <td>11.93</td>\n",
       "      <td>0</td>\n",
       "      <td>0.573</td>\n",
       "      <td>6.794</td>\n",
       "      <td>89.3</td>\n",
       "      <td>2.3889</td>\n",
       "      <td>1</td>\n",
       "      <td>273</td>\n",
       "      <td>21.0</td>\n",
       "      <td>393.45</td>\n",
       "      <td>6.48</td>\n",
       "      <td>22.0</td>\n",
       "    </tr>\n",
       "    <tr>\n",
       "      <th>505</th>\n",
       "      <td>0.04741</td>\n",
       "      <td>0.0</td>\n",
       "      <td>11.93</td>\n",
       "      <td>0</td>\n",
       "      <td>0.573</td>\n",
       "      <td>6.030</td>\n",
       "      <td>80.8</td>\n",
       "      <td>2.5050</td>\n",
       "      <td>1</td>\n",
       "      <td>273</td>\n",
       "      <td>21.0</td>\n",
       "      <td>396.90</td>\n",
       "      <td>7.88</td>\n",
       "      <td>11.9</td>\n",
       "    </tr>\n",
       "  </tbody>\n",
       "</table>\n",
       "<p>506 rows × 14 columns</p>\n",
       "</div>"
      ],
      "text/plain": [
       "        crim    zn  indus  chas    nox     rm   age     dis  rad  tax  \\\n",
       "0    0.00632  18.0   2.31     0  0.538  6.575  65.2  4.0900    1  296   \n",
       "1    0.02731   0.0   7.07     0  0.469  6.421  78.9  4.9671    2  242   \n",
       "2    0.02729   0.0   7.07     0  0.469  7.185  61.1  4.9671    2  242   \n",
       "3    0.03237   0.0   2.18     0  0.458  6.998  45.8  6.0622    3  222   \n",
       "4    0.06905   0.0   2.18     0  0.458  7.147  54.2  6.0622    3  222   \n",
       "..       ...   ...    ...   ...    ...    ...   ...     ...  ...  ...   \n",
       "501  0.06263   0.0  11.93     0  0.573  6.593  69.1  2.4786    1  273   \n",
       "502  0.04527   0.0  11.93     0  0.573  6.120  76.7  2.2875    1  273   \n",
       "503  0.06076   0.0  11.93     0  0.573  6.976  91.0  2.1675    1  273   \n",
       "504  0.10959   0.0  11.93     0  0.573  6.794  89.3  2.3889    1  273   \n",
       "505  0.04741   0.0  11.93     0  0.573  6.030  80.8  2.5050    1  273   \n",
       "\n",
       "     ptratio       b  lstat  medv  \n",
       "0       15.3  396.90   4.98  24.0  \n",
       "1       17.8  396.90   9.14  21.6  \n",
       "2       17.8  392.83   4.03  34.7  \n",
       "3       18.7  394.63   2.94  33.4  \n",
       "4       18.7  396.90   5.33  36.2  \n",
       "..       ...     ...    ...   ...  \n",
       "501     21.0  391.99   9.67  22.4  \n",
       "502     21.0  396.90   9.08  20.6  \n",
       "503     21.0  396.90   5.64  23.9  \n",
       "504     21.0  393.45   6.48  22.0  \n",
       "505     21.0  396.90   7.88  11.9  \n",
       "\n",
       "[506 rows x 14 columns]"
      ]
     },
     "execution_count": 3,
     "metadata": {},
     "output_type": "execute_result"
    }
   ],
   "source": [
    "boston_data=pd.read_csv(\"C:/Users/Sunitha M/Desktop/sunitha/BostonHousing.csv\")\n",
    "boston_data"
   ]
  },
  {
   "cell_type": "code",
   "execution_count": 4,
   "id": "08853ca5",
   "metadata": {},
   "outputs": [
    {
     "data": {
      "text/html": [
       "<div>\n",
       "<style scoped>\n",
       "    .dataframe tbody tr th:only-of-type {\n",
       "        vertical-align: middle;\n",
       "    }\n",
       "\n",
       "    .dataframe tbody tr th {\n",
       "        vertical-align: top;\n",
       "    }\n",
       "\n",
       "    .dataframe thead th {\n",
       "        text-align: right;\n",
       "    }\n",
       "</style>\n",
       "<table border=\"1\" class=\"dataframe\">\n",
       "  <thead>\n",
       "    <tr style=\"text-align: right;\">\n",
       "      <th></th>\n",
       "      <th>crim</th>\n",
       "      <th>zn</th>\n",
       "      <th>indus</th>\n",
       "      <th>chas</th>\n",
       "      <th>nox</th>\n",
       "      <th>rm</th>\n",
       "      <th>age</th>\n",
       "      <th>dis</th>\n",
       "      <th>rad</th>\n",
       "      <th>tax</th>\n",
       "      <th>ptratio</th>\n",
       "      <th>b</th>\n",
       "      <th>lstat</th>\n",
       "      <th>medv</th>\n",
       "    </tr>\n",
       "  </thead>\n",
       "  <tbody>\n",
       "    <tr>\n",
       "      <th>count</th>\n",
       "      <td>506.000000</td>\n",
       "      <td>506.000000</td>\n",
       "      <td>506.000000</td>\n",
       "      <td>506.000000</td>\n",
       "      <td>506.000000</td>\n",
       "      <td>501.000000</td>\n",
       "      <td>506.000000</td>\n",
       "      <td>506.000000</td>\n",
       "      <td>506.000000</td>\n",
       "      <td>506.000000</td>\n",
       "      <td>506.000000</td>\n",
       "      <td>506.000000</td>\n",
       "      <td>506.000000</td>\n",
       "      <td>506.000000</td>\n",
       "    </tr>\n",
       "    <tr>\n",
       "      <th>mean</th>\n",
       "      <td>3.613524</td>\n",
       "      <td>11.363636</td>\n",
       "      <td>11.136779</td>\n",
       "      <td>0.069170</td>\n",
       "      <td>0.554695</td>\n",
       "      <td>6.284341</td>\n",
       "      <td>68.574901</td>\n",
       "      <td>3.795043</td>\n",
       "      <td>9.549407</td>\n",
       "      <td>408.237154</td>\n",
       "      <td>18.455534</td>\n",
       "      <td>356.674032</td>\n",
       "      <td>12.653063</td>\n",
       "      <td>22.532806</td>\n",
       "    </tr>\n",
       "    <tr>\n",
       "      <th>std</th>\n",
       "      <td>8.601545</td>\n",
       "      <td>23.322453</td>\n",
       "      <td>6.860353</td>\n",
       "      <td>0.253994</td>\n",
       "      <td>0.115878</td>\n",
       "      <td>0.705587</td>\n",
       "      <td>28.148861</td>\n",
       "      <td>2.105710</td>\n",
       "      <td>8.707259</td>\n",
       "      <td>168.537116</td>\n",
       "      <td>2.164946</td>\n",
       "      <td>91.294864</td>\n",
       "      <td>7.141062</td>\n",
       "      <td>9.197104</td>\n",
       "    </tr>\n",
       "    <tr>\n",
       "      <th>min</th>\n",
       "      <td>0.006320</td>\n",
       "      <td>0.000000</td>\n",
       "      <td>0.460000</td>\n",
       "      <td>0.000000</td>\n",
       "      <td>0.385000</td>\n",
       "      <td>3.561000</td>\n",
       "      <td>2.900000</td>\n",
       "      <td>1.129600</td>\n",
       "      <td>1.000000</td>\n",
       "      <td>187.000000</td>\n",
       "      <td>12.600000</td>\n",
       "      <td>0.320000</td>\n",
       "      <td>1.730000</td>\n",
       "      <td>5.000000</td>\n",
       "    </tr>\n",
       "    <tr>\n",
       "      <th>25%</th>\n",
       "      <td>0.082045</td>\n",
       "      <td>0.000000</td>\n",
       "      <td>5.190000</td>\n",
       "      <td>0.000000</td>\n",
       "      <td>0.449000</td>\n",
       "      <td>5.884000</td>\n",
       "      <td>45.025000</td>\n",
       "      <td>2.100175</td>\n",
       "      <td>4.000000</td>\n",
       "      <td>279.000000</td>\n",
       "      <td>17.400000</td>\n",
       "      <td>375.377500</td>\n",
       "      <td>6.950000</td>\n",
       "      <td>17.025000</td>\n",
       "    </tr>\n",
       "    <tr>\n",
       "      <th>50%</th>\n",
       "      <td>0.256510</td>\n",
       "      <td>0.000000</td>\n",
       "      <td>9.690000</td>\n",
       "      <td>0.000000</td>\n",
       "      <td>0.538000</td>\n",
       "      <td>6.208000</td>\n",
       "      <td>77.500000</td>\n",
       "      <td>3.207450</td>\n",
       "      <td>5.000000</td>\n",
       "      <td>330.000000</td>\n",
       "      <td>19.050000</td>\n",
       "      <td>391.440000</td>\n",
       "      <td>11.360000</td>\n",
       "      <td>21.200000</td>\n",
       "    </tr>\n",
       "    <tr>\n",
       "      <th>75%</th>\n",
       "      <td>3.677083</td>\n",
       "      <td>12.500000</td>\n",
       "      <td>18.100000</td>\n",
       "      <td>0.000000</td>\n",
       "      <td>0.624000</td>\n",
       "      <td>6.625000</td>\n",
       "      <td>94.075000</td>\n",
       "      <td>5.188425</td>\n",
       "      <td>24.000000</td>\n",
       "      <td>666.000000</td>\n",
       "      <td>20.200000</td>\n",
       "      <td>396.225000</td>\n",
       "      <td>16.955000</td>\n",
       "      <td>25.000000</td>\n",
       "    </tr>\n",
       "    <tr>\n",
       "      <th>max</th>\n",
       "      <td>88.976200</td>\n",
       "      <td>100.000000</td>\n",
       "      <td>27.740000</td>\n",
       "      <td>1.000000</td>\n",
       "      <td>0.871000</td>\n",
       "      <td>8.780000</td>\n",
       "      <td>100.000000</td>\n",
       "      <td>12.126500</td>\n",
       "      <td>24.000000</td>\n",
       "      <td>711.000000</td>\n",
       "      <td>22.000000</td>\n",
       "      <td>396.900000</td>\n",
       "      <td>37.970000</td>\n",
       "      <td>50.000000</td>\n",
       "    </tr>\n",
       "  </tbody>\n",
       "</table>\n",
       "</div>"
      ],
      "text/plain": [
       "             crim          zn       indus        chas         nox          rm  \\\n",
       "count  506.000000  506.000000  506.000000  506.000000  506.000000  501.000000   \n",
       "mean     3.613524   11.363636   11.136779    0.069170    0.554695    6.284341   \n",
       "std      8.601545   23.322453    6.860353    0.253994    0.115878    0.705587   \n",
       "min      0.006320    0.000000    0.460000    0.000000    0.385000    3.561000   \n",
       "25%      0.082045    0.000000    5.190000    0.000000    0.449000    5.884000   \n",
       "50%      0.256510    0.000000    9.690000    0.000000    0.538000    6.208000   \n",
       "75%      3.677083   12.500000   18.100000    0.000000    0.624000    6.625000   \n",
       "max     88.976200  100.000000   27.740000    1.000000    0.871000    8.780000   \n",
       "\n",
       "              age         dis         rad         tax     ptratio           b  \\\n",
       "count  506.000000  506.000000  506.000000  506.000000  506.000000  506.000000   \n",
       "mean    68.574901    3.795043    9.549407  408.237154   18.455534  356.674032   \n",
       "std     28.148861    2.105710    8.707259  168.537116    2.164946   91.294864   \n",
       "min      2.900000    1.129600    1.000000  187.000000   12.600000    0.320000   \n",
       "25%     45.025000    2.100175    4.000000  279.000000   17.400000  375.377500   \n",
       "50%     77.500000    3.207450    5.000000  330.000000   19.050000  391.440000   \n",
       "75%     94.075000    5.188425   24.000000  666.000000   20.200000  396.225000   \n",
       "max    100.000000   12.126500   24.000000  711.000000   22.000000  396.900000   \n",
       "\n",
       "            lstat        medv  \n",
       "count  506.000000  506.000000  \n",
       "mean    12.653063   22.532806  \n",
       "std      7.141062    9.197104  \n",
       "min      1.730000    5.000000  \n",
       "25%      6.950000   17.025000  \n",
       "50%     11.360000   21.200000  \n",
       "75%     16.955000   25.000000  \n",
       "max     37.970000   50.000000  "
      ]
     },
     "execution_count": 4,
     "metadata": {},
     "output_type": "execute_result"
    }
   ],
   "source": [
    "boston_data.describe()"
   ]
  },
  {
   "cell_type": "code",
   "execution_count": 5,
   "id": "7b77b1bf",
   "metadata": {},
   "outputs": [
    {
     "data": {
      "text/plain": [
       "(506, 14)"
      ]
     },
     "execution_count": 5,
     "metadata": {},
     "output_type": "execute_result"
    }
   ],
   "source": [
    "df.shape"
   ]
  },
  {
   "cell_type": "code",
   "execution_count": 5,
   "id": "a792b9d6",
   "metadata": {},
   "outputs": [
    {
     "name": "stdout",
     "output_type": "stream",
     "text": [
      "<class 'pandas.core.frame.DataFrame'>\n",
      "RangeIndex: 506 entries, 0 to 505\n",
      "Data columns (total 14 columns):\n",
      " #   Column   Non-Null Count  Dtype  \n",
      "---  ------   --------------  -----  \n",
      " 0   crim     506 non-null    float64\n",
      " 1   zn       506 non-null    float64\n",
      " 2   indus    506 non-null    float64\n",
      " 3   chas     506 non-null    int64  \n",
      " 4   nox      506 non-null    float64\n",
      " 5   rm       501 non-null    float64\n",
      " 6   age      506 non-null    float64\n",
      " 7   dis      506 non-null    float64\n",
      " 8   rad      506 non-null    int64  \n",
      " 9   tax      506 non-null    int64  \n",
      " 10  ptratio  506 non-null    float64\n",
      " 11  b        506 non-null    float64\n",
      " 12  lstat    506 non-null    float64\n",
      " 13  medv     506 non-null    float64\n",
      "dtypes: float64(11), int64(3)\n",
      "memory usage: 55.5 KB\n"
     ]
    }
   ],
   "source": [
    "boston_data.info()"
   ]
  },
  {
   "cell_type": "markdown",
   "id": "edd7774a",
   "metadata": {},
   "source": [
    "# 1.    Frame 10 questions on Probability & Statistics"
   ]
  },
  {
   "cell_type": "markdown",
   "id": "f1042bd9",
   "metadata": {},
   "source": [
    "1. What is the average price of houses in the Boston housing dataset?"
   ]
  },
  {
   "cell_type": "code",
   "execution_count": 6,
   "id": "d3a7a7a7",
   "metadata": {},
   "outputs": [
    {
     "name": "stdout",
     "output_type": "stream",
     "text": [
      "The average chas of houses in the Boston housing dataset is 0.07\n"
     ]
    }
   ],
   "source": [
    "# Calculate the average chas\n",
    "average_chas= boston_data['chas'].mean()\n",
    "\n",
    "# Print the average price\n",
    "print(f\"The average chas of houses in the Boston housing dataset is {average_chas:.2f}\")"
   ]
  },
  {
   "cell_type": "markdown",
   "id": "0eac610f",
   "metadata": {},
   "source": [
    "2. What is the standard deviation of the number of rooms per dwelling"
   ]
  },
  {
   "cell_type": "code",
   "execution_count": 7,
   "id": "a1b30558",
   "metadata": {},
   "outputs": [
    {
     "name": "stdout",
     "output_type": "stream",
     "text": [
      "The standard deviation of the number of rooms per dwelling is 0.70\n"
     ]
    }
   ],
   "source": [
    "# Calculate the standard deviation of the number of rooms\n",
    "std_dev = np.std(boston_data['rm'])\n",
    "# Print the standard deviation\n",
    "print(f\"The standard deviation of the number of rooms per dwelling is {std_dev:.2f}\")"
   ]
  },
  {
   "cell_type": "markdown",
   "id": "01542fd5",
   "metadata": {},
   "source": [
    "3. What is the correlation between the average number of rooms and the median value of owner-occupied homes"
   ]
  },
  {
   "cell_type": "code",
   "execution_count": 8,
   "id": "0b5a2f07",
   "metadata": {},
   "outputs": [
    {
     "name": "stdout",
     "output_type": "stream",
     "text": [
      "The correlation between average number of rooms and median home value is 0.70\n"
     ]
    }
   ],
   "source": [
    "# Calculate the correlation between average number of rooms and median home value\n",
    "correlation = boston_data['rm'].corr(boston_data['medv'])\n",
    "\n",
    "# Print the correlation\n",
    "print(f\"The correlation between average number of rooms and median home value is {correlation:.2f}\")\n"
   ]
  },
  {
   "cell_type": "markdown",
   "id": "e32ac1e9",
   "metadata": {},
   "source": [
    "4. What is the probability of a house having more than 6 rooms"
   ]
  },
  {
   "cell_type": "code",
   "execution_count": 9,
   "id": "c496245c",
   "metadata": {},
   "outputs": [
    {
     "name": "stdout",
     "output_type": "stream",
     "text": [
      "The probability of a house having more than 6 rooms is 0.65\n"
     ]
    }
   ],
   "source": [
    "# Calculate the probability of a house having more than 6 rooms\n",
    "probability = len(boston_data[boston_data['rm'] > 6]) / len(boston_data)\n",
    "\n",
    "# Print the probability\n",
    "print(f\"The probability of a house having more than 6 rooms is {probability:.2f}\")"
   ]
  },
  {
   "cell_type": "markdown",
   "id": "d933dcca",
   "metadata": {},
   "source": [
    "5. What is the median value of homes in the neighborhood with the highest crime rate"
   ]
  },
  {
   "cell_type": "code",
   "execution_count": 10,
   "id": "9161a72a",
   "metadata": {},
   "outputs": [
    {
     "data": {
      "text/plain": [
       "0.25651"
      ]
     },
     "execution_count": 10,
     "metadata": {},
     "output_type": "execute_result"
    }
   ],
   "source": [
    "boston_data['crim'].median()"
   ]
  },
  {
   "cell_type": "markdown",
   "id": "b9a533cf",
   "metadata": {},
   "source": [
    "6.What is the probability of a house being located in a neighborhood with a low pupil-teacher ratio"
   ]
  },
  {
   "cell_type": "code",
   "execution_count": 11,
   "id": "928bf38f",
   "metadata": {},
   "outputs": [
    {
     "name": "stdout",
     "output_type": "stream",
     "text": [
      "The probability of a house being located in a neighborhood with a low pupil-teacher ratio is 0.16\n"
     ]
    }
   ],
   "source": [
    "# Define the threshold for a low pupil-teacher ratio (you can adjust this value)\n",
    "low_ptratio = 16\n",
    "\n",
    "# Calculate the probability of a house being in a neighborhood with a low pupil-teacher ratio\n",
    "probability = len(boston_data[boston_data['ptratio'] < low_ptratio]) / len(boston_data)\n",
    "\n",
    "# Print the probability\n",
    "print(f\"The probability of a house being located in a neighborhood with a low pupil-teacher ratio is {probability:.2f}\")"
   ]
  },
  {
   "cell_type": "markdown",
   "id": "577c26e9",
   "metadata": {},
   "source": [
    "7. What is the range of te percentage of lower status of the population in the dataset"
   ]
  },
  {
   "cell_type": "code",
   "execution_count": 12,
   "id": "1ba6f04a",
   "metadata": {},
   "outputs": [
    {
     "name": "stdout",
     "output_type": "stream",
     "text": [
      "The range of the percentage of lower status of the population is 36.24\n"
     ]
    }
   ],
   "source": [
    "# Calculate the range of the percentage of lower status of the population\n",
    "range_percentage = boston_data['lstat'].max() - boston_data['lstat'].min()\n",
    "\n",
    "# Print the range\n",
    "print(f\"The range of the percentage of lower status of the population is {range_percentage:.2f}\")"
   ]
  },
  {
   "cell_type": "markdown",
   "id": "cf8e64a7",
   "metadata": {},
   "source": [
    "8. What is the probability of a house having a high accessibility to radial highways?"
   ]
  },
  {
   "cell_type": "code",
   "execution_count": 13,
   "id": "110a6bd9",
   "metadata": {},
   "outputs": [
    {
     "name": "stdout",
     "output_type": "stream",
     "text": [
      "The probability of a house having a high accessibility to radial highways is 0.26\n"
     ]
    }
   ],
   "source": [
    "# Define the threshold for high accessibility to radial highways (you can adjust this value)\n",
    "high_accessibility_threshold = 8\n",
    "\n",
    "# Calculate the probability of a house having a high accessibility to radial highways\n",
    "probability = len(boston_data[boston_data['rad'] > high_accessibility_threshold]) / len(boston_data)\n",
    "\n",
    "# Print the probability\n",
    "print(f\"The probability of a house having a high accessibility to radial highways is {probability:.2f}\")"
   ]
  },
  {
   "cell_type": "markdown",
   "id": "871a981e",
   "metadata": {},
   "source": [
    "9. What is the interquartile range of the nitric oxide concentration in parts per million"
   ]
  },
  {
   "cell_type": "code",
   "execution_count": 14,
   "id": "71a79376",
   "metadata": {},
   "outputs": [
    {
     "name": "stdout",
     "output_type": "stream",
     "text": [
      "The interquartile range of the nitric oxide concentration is 0.17 ppm\n"
     ]
    }
   ],
   "source": [
    "# Calculate the interquartile range of the nitric oxide concentration\n",
    "iqr = boston_data['nox'].quantile(0.75) - boston_data['nox'].quantile(0.25)\n",
    "\n",
    "# Print the interquartile range\n",
    "print(f\"The interquartile range of the nitric oxide concentration is {iqr:.2f} ppm\")"
   ]
  },
  {
   "cell_type": "markdown",
   "id": "364e2564",
   "metadata": {},
   "source": [
    "10. What is the probability of a house having a high tax rate"
   ]
  },
  {
   "cell_type": "code",
   "execution_count": 15,
   "id": "0c80daf6",
   "metadata": {},
   "outputs": [
    {
     "name": "stdout",
     "output_type": "stream",
     "text": [
      "The probability of a house having a high tax rate is 1.00\n"
     ]
    }
   ],
   "source": [
    "# Define the threshold for high tax rate (you can adjust this value)\n",
    "high_tax_rate_threshold = 30\n",
    "\n",
    "# Calculate the probability of a house having a high tax rate\n",
    "probability = len(boston_data[boston_data['tax'] > high_tax_rate_threshold]) / len(boston_data)\n",
    "\n",
    "# Print the probability\n",
    "print(f\"The probability of a house having a high tax rate is {probability:.2f}\")"
   ]
  },
  {
   "cell_type": "markdown",
   "id": "9a064a5b",
   "metadata": {},
   "source": [
    "# 2.Dispersion for the parameters"
   ]
  },
  {
   "cell_type": "code",
   "execution_count": 16,
   "id": "6134a7a3",
   "metadata": {},
   "outputs": [
    {
     "name": "stdout",
     "output_type": "stream",
     "text": [
      "Range: 27.279999999999998\n",
      "Variance: 47.064442473682135\n",
      "Standard Deviation: 6.8603529408975845\n"
     ]
    }
   ],
   "source": [
    "# Calculate dispersion measures\n",
    "range_val = boston_data['indus'].max() - boston_data['indus'].min()\n",
    "variance_val = boston_data['indus'].var()\n",
    "std_deviation_val = boston_data['indus'].std()\n",
    "\n",
    "# Print the results\n",
    "print(\"Range:\", range_val)\n",
    "print(\"Variance:\", variance_val)\n",
    "print(\"Standard Deviation:\", std_deviation_val)"
   ]
  },
  {
   "cell_type": "markdown",
   "id": "a78d34e2",
   "metadata": {},
   "source": [
    "# 3.Data distribution\n"
   ]
  },
  {
   "cell_type": "code",
   "execution_count": 17,
   "id": "0d53cb0d",
   "metadata": {},
   "outputs": [
    {
     "data": {
      "image/png": "[encoded data removed]",
      "text/plain": [
       "<Figure size 640x480 with 1 Axes>"
      ]
     },
     "metadata": {},
     "output_type": "display_data"
    }
   ],
   "source": [
    "# Load the Boston housing dataset\n",
    "boston_data=pd.read_csv(\"C:/Users/Sunitha M/Desktop/sunitha/BostonHousing.csv\")\n",
    "boston_data\n",
    "\n",
    "# Plot the data distribution\n",
    "plt.hist(boston_data['indus'], bins=10, color='skyblue')\n",
    "\n",
    "# Customize the plot\n",
    "plt.title('Data Distribution')\n",
    "plt.xlabel('indus')\n",
    "plt.ylabel('Frequency')\n",
    "\n",
    "# Show the plot\n",
    "plt.show()"
   ]
  },
  {
   "cell_type": "markdown",
   "id": "a2950fd6",
   "metadata": {},
   "source": [
    "# 4.    Visualize above with Distribution, Histogram & Scatter Plots"
   ]
  },
  {
   "cell_type": "code",
   "execution_count": 19,
   "id": "96160dd2",
   "metadata": {},
   "outputs": [
    {
     "data": {
      "image/png": "[encoded data removed]",
      "text/plain": [
       "<Figure size 640x480 with 2 Axes>"
      ]
     },
     "metadata": {},
     "output_type": "display_data"
    },
    {
     "data": {
      "image/png": "[encoded data removed]",
      "text/plain": [
       "<Figure size 640x480 with 1 Axes>"
      ]
     },
     "metadata": {},
     "output_type": "display_data"
    }
   ],
   "source": [
    "# Create a histogram\n",
    "plt.subplot(1, 2, 1)\n",
    "plt.hist(boston_data['indus'], bins=10, color='skyblue')\n",
    "plt.title('Data Distribution')\n",
    "plt.xlabel('indus')\n",
    "plt.ylabel('Frequency')\n",
    "\n",
    "# Create a scatter plot\n",
    "plt.subplot(1, 2, 2)\n",
    "plt.scatter(boston_data['rm'], boston_data['ptratio'], color='green')\n",
    "plt.title('Scatter Plot')\n",
    "plt.xlabel('X')\n",
    "plt.ylabel('Y')\n",
    "\n",
    "# Adjust the layout\n",
    "plt.tight_layout()\n",
    "\n",
    "# Show the plots\n",
    "plt.show()\n",
    "\n",
    "# Plot the data distribution\n",
    "plt.hist(boston_data['indus'], bins=10, color='skyblue')\n",
    "\n",
    "# Customize the plot\n",
    "plt.title('Data Distribution')\n",
    "plt.xlabel('indus')\n",
    "plt.ylabel('Frequency')\n",
    "\n",
    "# Show the plot\n",
    "plt.show()"
   ]
  },
  {
   "cell_type": "markdown",
   "id": "216281cb",
   "metadata": {},
   "source": [
    "# 5.Test statistic\n"
   ]
  },
  {
   "cell_type": "code",
   "execution_count": 21,
   "id": "54ff3c8d",
   "metadata": {},
   "outputs": [
    {
     "name": "stdout",
     "output_type": "stream",
     "text": [
      "T-statistic: -51.62293091970787\n",
      "P-value: 1.5884852575925984e-285\n"
     ]
    }
   ],
   "source": [
    "# Perform a t-test\n",
    "t_stat, p_value = stats.ttest_ind(boston_data['dis'], boston_data['age'])\n",
    "\n",
    "# Print the results\n",
    "print(\"T-statistic:\", t_stat)\n",
    "print(\"P-value:\", p_value)"
   ]
  },
  {
   "cell_type": "markdown",
   "id": "4663cfce",
   "metadata": {},
   "source": [
    "# 6.Test type (T-test, Z-test, F-test, ANNOVA, Chi-Square, PCA)"
   ]
  },
  {
   "cell_type": "markdown",
   "id": "5fe02767",
   "metadata": {},
   "source": [
    "T-test"
   ]
  },
  {
   "cell_type": "code",
   "execution_count": 22,
   "id": "58b0a1f4",
   "metadata": {},
   "outputs": [
    {
     "name": "stdout",
     "output_type": "stream",
     "text": [
      "T-Statistic: nan\n",
      "P-Value: nan\n"
     ]
    }
   ],
   "source": [
    "# Perform the t-test\n",
    "t_statistic, p_value = stats.ttest_ind(boston_data['rm'],boston_data['indus'])\n",
    "\n",
    "# Print the results\n",
    "print(f\"T-Statistic: {t_statistic:.2f}\")\n",
    "print(f\"P-Value: {p_value:.2f}\")"
   ]
  },
  {
   "cell_type": "markdown",
   "id": "796b7d99",
   "metadata": {},
   "source": [
    "Z-test"
   ]
  },
  {
   "cell_type": "code",
   "execution_count": 23,
   "id": "e5770c14",
   "metadata": {},
   "outputs": [
    {
     "name": "stdout",
     "output_type": "stream",
     "text": [
      "Z-statistic: nan\n",
      "P-value: nan\n"
     ]
    }
   ],
   "source": [
    "import pandas as pd\n",
    "import statsmodels.api as sm\n",
    "\n",
    "# Load the Boston housing dataset\n",
    "boston_data=pd.read_csv(\"C:/Users/Sunitha M/Desktop/sunitha/BostonHousing.csv\")\n",
    "\n",
    "# Perform a Z-test\n",
    "z_test = sm.stats.ztest(boston_data['rm'], boston_data['age'])\n",
    "\n",
    "# Print the results\n",
    "print(\"Z-statistic:\", z_test[0])\n",
    "print(\"P-value:\", z_test[1])"
   ]
  },
  {
   "cell_type": "markdown",
   "id": "20c4347c",
   "metadata": {},
   "source": [
    "F-test"
   ]
  },
  {
   "cell_type": "code",
   "execution_count": 24,
   "id": "386236d6",
   "metadata": {},
   "outputs": [
    {
     "name": "stdout",
     "output_type": "stream",
     "text": [
      "F-statistic: nan\n",
      "P-value: nan\n"
     ]
    }
   ],
   "source": [
    "import pandas as pd\n",
    "from scipy import stats\n",
    "\n",
    "# Load the Boston housing dataset\n",
    "boston_data=pd.read_csv(\"C:/Users/Sunitha M/Desktop/sunitha/BostonHousing.csv\")\n",
    "\n",
    "# Perform an F-test\n",
    "f_stat, p_value = stats.f_oneway(boston_data['rm'], boston_data['indus'], boston_data['medv'])\n",
    "\n",
    "# Print the results\n",
    "print(\"F-statistic:\", f_stat)\n",
    "print(\"P-value:\", p_value)"
   ]
  },
  {
   "cell_type": "markdown",
   "id": "7d7f1209",
   "metadata": {},
   "source": [
    "ANNOVA"
   ]
  },
  {
   "cell_type": "code",
   "execution_count": 25,
   "id": "c3bf5310",
   "metadata": {},
   "outputs": [
    {
     "name": "stdout",
     "output_type": "stream",
     "text": [
      "             df      sum_sq    mean_sq          F        PR(>F)\n",
      "indus       1.0   38.680149  38.680149  91.803772  4.501586e-20\n",
      "Residual  499.0  210.246200   0.421335        NaN           NaN\n"
     ]
    }
   ],
   "source": [
    "import pandas as pd\n",
    "import statsmodels.api as sm\n",
    "from statsmodels.formula.api import ols\n",
    "\n",
    "# Load the Boston housing dataset\n",
    "boston_data=pd.read_csv(\"C:/Users/Sunitha M/Desktop/sunitha/BostonHousing.csv\")\n",
    "# Perform ANOVA\n",
    "model = ols('rm ~ indus', data=boston_data).fit()\n",
    "anova_table = sm.stats.anova_lm(model)\n",
    "\n",
    "# Print the results\n",
    "print(anova_table)"
   ]
  },
  {
   "cell_type": "markdown",
   "id": "3ae719a3",
   "metadata": {},
   "source": [
    "Chi-Square"
   ]
  },
  {
   "cell_type": "code",
   "execution_count": 26,
   "id": "21960702",
   "metadata": {},
   "outputs": [
    {
     "name": "stdout",
     "output_type": "stream",
     "text": [
      "Chi-square statistic: 1924.659425728842\n",
      "P-value: 2.4721433632764427e-164\n"
     ]
    }
   ],
   "source": [
    "import pandas as pd\n",
    "from scipy.stats import chi2_contingency\n",
    "\n",
    "# Load the Boston housing dataset\n",
    "boston_data=pd.read_csv(\"C:/Users/Sunitha M/Desktop/sunitha/BostonHousing.csv\")\n",
    "\n",
    "# Perform a chi-square test\n",
    "chi2, p_value, _, _ = chi2_contingency(boston_data[['age', 'ptratio']])\n",
    "\n",
    "# Print the results\n",
    "print(\"Chi-square statistic:\", chi2)\n",
    "print(\"P-value:\", p_value)"
   ]
  },
  {
   "cell_type": "markdown",
   "id": "cef7a410",
   "metadata": {},
   "source": [
    "PCA"
   ]
  },
  {
   "cell_type": "code",
   "execution_count": 27,
   "id": "d7e37467",
   "metadata": {},
   "outputs": [
    {
     "name": "stdout",
     "output_type": "stream",
     "text": [
      "Principal Components:\n",
      "[[ 2.92942078e-02 -4.36118424e-02  2.83285383e-02 -5.58681595e-05\n",
      "   4.49661231e-04  8.36333602e-02 -6.55928087e-03  4.49866312e-02\n",
      "   9.49411179e-01  5.60298163e-03 -2.91176758e-01  2.29611240e-02\n",
      "  -2.55281736e-02]\n",
      " [ 6.67047035e-03  1.11872301e-03 -4.94442736e-03 -1.03159361e-04\n",
      "   1.85832471e-06 -5.69191607e-03  3.55421092e-04 -8.63732918e-03\n",
      "  -2.92672415e-01 -2.52202025e-03 -9.56058188e-01  5.80440375e-03\n",
      "  -8.84392715e-03]]\n",
      "Explained Variance Ratio:\n",
      "[0.80458143 0.16270764]\n"
     ]
    }
   ],
   "source": [
    "from sklearn.decomposition import PCA\n",
    "import pandas as pd\n",
    "\n",
    "# Load your dataset into a pandas DataFrame\n",
    "boston_data=pd.read_csv(\"C:/Users/Sunitha M/Desktop/sunitha/BostonHousing.csv\")\n",
    "\n",
    "# Separate the features from the target variable (if applicable)\n",
    "X = boston_data.drop('rm', axis=1)  # Replace 'target_variable' with the actual column name\n",
    "\n",
    "# Apply PCA\n",
    "pca = PCA(n_components=2)  # Specify the number of components you want to keep\n",
    "X_pca = pca.fit_transform(X)\n",
    "\n",
    "# Access the principal components\n",
    "principal_components = pca.components_\n",
    "\n",
    "# Access the explained variance ratio\n",
    "explained_variance_ratio = pca.explained_variance_ratio_\n",
    "\n",
    "# Print the results\n",
    "print(\"Principal Components:\")\n",
    "print(principal_components)\n",
    "print(\"Explained Variance Ratio:\")\n",
    "print(explained_variance_ratio)"
   ]
  },
  {
   "cell_type": "markdown",
   "id": "fae1bae1",
   "metadata": {},
   "source": [
    "# 7.Interpreting test statistics"
   ]
  },
  {
   "cell_type": "code",
   "execution_count": 28,
   "id": "e6b69881",
   "metadata": {},
   "outputs": [
    {
     "name": "stdout",
     "output_type": "stream",
     "text": [
      "                            OLS Regression Results                            \n",
      "==============================================================================\n",
      "Dep. Variable:                     rm   R-squared:                         nan\n",
      "Model:                            OLS   Adj. R-squared:                    nan\n",
      "Method:                 Least Squares   F-statistic:                       nan\n",
      "Date:                Wed, 25 Oct 2023   Prob (F-statistic):                nan\n",
      "Time:                        12:07:06   Log-Likelihood:                    nan\n",
      "No. Observations:                 506   AIC:                               nan\n",
      "Df Residuals:                     492   BIC:                               nan\n",
      "Df Model:                          13                                         \n",
      "Covariance Type:            nonrobust                                         \n",
      "==============================================================================\n",
      "                 coef    std err          t      P>|t|      [0.025      0.975]\n",
      "------------------------------------------------------------------------------\n",
      "const             nan        nan        nan        nan         nan         nan\n",
      "crim              nan        nan        nan        nan         nan         nan\n",
      "zn                nan        nan        nan        nan         nan         nan\n",
      "indus             nan        nan        nan        nan         nan         nan\n",
      "chas              nan        nan        nan        nan         nan         nan\n",
      "nox               nan        nan        nan        nan         nan         nan\n",
      "age               nan        nan        nan        nan         nan         nan\n",
      "dis               nan        nan        nan        nan         nan         nan\n",
      "rad               nan        nan        nan        nan         nan         nan\n",
      "tax               nan        nan        nan        nan         nan         nan\n",
      "ptratio           nan        nan        nan        nan         nan         nan\n",
      "b                 nan        nan        nan        nan         nan         nan\n",
      "lstat             nan        nan        nan        nan         nan         nan\n",
      "medv              nan        nan        nan        nan         nan         nan\n",
      "==============================================================================\n",
      "Omnibus:                          nan   Durbin-Watson:                     nan\n",
      "Prob(Omnibus):                    nan   Jarque-Bera (JB):                  nan\n",
      "Skew:                             nan   Prob(JB):                          nan\n",
      "Kurtosis:                         nan   Cond. No.                     1.47e+04\n",
      "==============================================================================\n",
      "\n",
      "Notes:\n",
      "[1] Standard Errors assume that the covariance matrix of the errors is correctly specified.\n",
      "[2] The condition number is large, 1.47e+04. This might indicate that there are\n",
      "strong multicollinearity or other numerical problems.\n"
     ]
    }
   ],
   "source": [
    "import pandas as pd\n",
    "import statsmodels.api as sm\n",
    "\n",
    "# Load the Boston housing dataset\n",
    "boston_data=pd.read_csv(\"C:/Users/Sunitha M/Desktop/sunitha/BostonHousing.csv\")\n",
    "\n",
    "# Separate the target variable and features\n",
    "X = boston_data.drop('rm', axis=1)  # Replace 'target_variable' with the actual column name\n",
    "y = boston_data['rm']\n",
    "\n",
    "# Add a constant term to the features\n",
    "X = sm.add_constant(X)\n",
    "\n",
    "# Fit the model\n",
    "model = sm.OLS(y, X).fit()\n",
    "\n",
    "# Print the summary of the model\n",
    "print(model.summary())"
   ]
  },
  {
   "cell_type": "code",
   "execution_count": null,
   "id": "b1853e51",
   "metadata": {},
   "outputs": [],
   "source": []
  }
 ],
 "metadata": {
  "kernelspec": {
   "display_name": "Python 3 (ipykernel)",
   "language": "python",
   "name": "python3"
  },
  "language_info": {
   "codemirror_mode": {
    "name": "ipython",
    "version": 3
   },
   "file_extension": ".py",
   "mimetype": "text/x-python",
   "name": "python",
   "nbconvert_exporter": "python",
   "pygments_lexer": "ipython3",
   "version": "3.11.4"
  }
 },
 "nbformat": 4,
 "nbformat_minor": 5
}
